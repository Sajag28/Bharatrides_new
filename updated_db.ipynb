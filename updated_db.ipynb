import pandas as pd
import random
from tqdm import tqdm


makes_models = {
    "Maruti Suzuki": ["Swift", "Baleno", "Dzire", "Alto", "Brezza", "WagonR", "Ertiga", "Celerio", "Fronx", "Ignis", "XL6", "Jimny"],
    "Hyundai": ["i10", "i20", "Creta", "Venue", "Verna", "Alcazar", "Exter", "Tucson", "Aura", "Grand i10 Nios"],
    "Tata Motors": ["Tiago", "Tigor", "Altroz", "Nexon", "Punch", "Harrier", "Safari", "EV Max"],
    "Mahindra": ["Thar", "Scorpio N", "Scorpio Classic", "XUV300", "XUV400", "XUV700", "Bolero Neo", "Marazzo"],
    "Kia": ["Seltos", "Sonet", "Carens", "EV6", "Carnival"],
    "Toyota": ["Innova Crysta", "Innova HyCross", "Fortuner", "Hilux", "Camry", "Urban Cruiser Hyryder", "Glanza", "Vellfire"],
    "Honda": ["City", "City Hybrid", "Amaze", "Elevate", "WR-V", "Jazz"],
    "Volkswagen": ["Virtus", "Taigun", "Tiguan", "Polo", "Vento"],
    "Skoda": ["Slavia", "Kushaq", "Octavia", "Superb", "Kodiaq", "Rapid"],
    "Renault": ["Kwid", "Triber", "Kiger", "Duster"],
    "Nissan": ["Magnite", "Kicks", "Terrano"],
    "MG": ["Hector", "Hector Plus", "Astor", "ZS EV", "Gloster", "Comet EV"],
    "BMW": ["3 Series", "5 Series", "7 Series", "X1", "X3", "X5", "iX", "Z4"],
    "Mercedes-Benz": ["A-Class", "C-Class", "E-Class", "S-Class", "GLA", "GLC", "GLE", "GLS", "EQB", "EQC"],
    "Audi": ["A4", "A6", "A8", "Q3", "Q5", "Q7", "Q8", "e-tron", "RS5"],
    "Jaguar": ["XE", "XF", "F-Pace", "F-Type", "I-Pace"],
    "Volvo": ["XC40", "XC60", "XC90", "S60", "S90", "V90 Cross Country"],
    "Lexus": ["ES", "RX", "NX", "LX", "UX"],
    "Porsche": ["Cayenne", "Macan", "Panamera", "911", "Taycan"],
    "Land Rover": ["Defender", "Range Rover Evoque", "Range Rover Velar", "Discovery Sport"],
    "Jeep": ["Compass", "Meridian", "Wrangler", "Grand Cherokee"],
    "Ford": ["EcoSport", "Endeavour", "Figo", "Aspire", "Freestyle"]
}

engine_types = ["Inline-4", "Inline-6", "V6", "V8", "Electric"]
fuel_types = ["Petrol", "Diesel", "Hybrid", "Electric"]
transmissions = ["Automatic", "Manual"]
drivetrains = ["FWD", "RWD", "AWD"]
body_styles = ["Sedan", "SUV", "Hatchback", "MPV", "Coupe"]

num_records = 1_000_000
chunk_size = 100_000
output_file = "indian_car_database_1m_full.csv"


columns = [
    "make", "model", "year", "engine_type", "fuel_type", "transmission", "drivetrain",
    "displacement", "engine_cc", "horsepower", "torque", "weight",
    "city_mpg", "highway_mpg", "cylinders", "body_style", "seating_capacity",
    "price (in lakhs)"
]

def generate_car_data():
    while True:
        make = random.choice(list(makes_models.keys()))
        model = random.choice(makes_models[make])
        year = random.randint(2010, 2024)
        engine = random.choice(engine_types)
        fuel = random.choice(fuel_types)
        transmission = random.choice(transmissions)
        drivetrain = random.choice(drivetrains)
        displacement = round(random.uniform(0.8, 5.0), 1)
        engine_cc = int(displacement * 1000)
        horsepower = random.randint(50, int(engine_cc / 5))
        torque = random.randint(90, 800)
        weight = random.randint(800, 3000)
        city_mpg = random.randint(10, 25)
        highway_mpg = random.randint(15, 35)
        cylinders = random.randint(3, 12)
        body_style = random.choice(body_styles)
        seating = random.randint(2, 8)

        if make in ["BMW", "Mercedes-Benz", "Audi", "Jaguar", "Volvo", "Porsche", "Land Rover", "Lexus"]:
            price_val = round(random.uniform(40, 220), 2)
        elif make in ["Toyota", "Ford", "Volkswagen", "Skoda", "Honda", "MG", "Jeep", "Nissan"]:
            price_val = round(random.uniform(8, 38), 2)
        elif make in ["Tata Motors", "Mahindra", "Hyundai", "Kia", "Renault", "Maruti Suzuki"]:
            price_val = round(random.uniform(4, 20), 2)
        else:
            price_val = round(random.uniform(5, 25), 2)

        yield [
            make, model, year, engine, fuel, transmission, drivetrain,
            displacement, engine_cc, horsepower, torque, weight,
            city_mpg, highway_mpg, cylinders, body_style, seating,
            price_val
        ]


data_gen = generate_car_data()

with open(output_file, mode='w', newline='', encoding='utf-8') as f:
    pd.DataFrame([next(data_gen)], columns=columns).to_csv(f, header=True, index=False)
    remaining = num_records - 1

    for _ in tqdm(range((remaining // chunk_size) + 1)):
        chunk = [next(data_gen) for _ in range(min(chunk_size, remaining))]
        pd.DataFrame(chunk, columns=columns).to_csv(f, header=False, index=False)
        remaining -= len(chunk)
        if remaining <= 0:
            break

print(f"File savved as: {output_file}")
