#################### ML MODEL FOR NEW CARS#############
import pandas as pd
import numpy as np
from sklearn.model_selection import train_test_split
from sklearn.preprocessing import OneHotEncoder
from sklearn.compose import ColumnTransformer
from sklearn.pipeline import Pipeline
from sklearn.linear_model import LinearRegression
from sklearn.metrics import r2_score, mean_squared_error

df = pd.read_csv("indian_car_database_1m_full.csv")

df['price_val'] = df['price'].str.replace(' lakhs', '').astype(float)

features = [
    "make", "model", "year", "engine_cc", "city_mpg", "highway_mpg",
    "transmission", "drivetrain", "fuel_type", "body_style", "seating_capacity"
]
target = "price_val"

X = df[features]
y = df[target]

categorical_features = ["make", "model", "transmission", "drivetrain", "fuel_type", "body_style"]
preprocessor = ColumnTransformer(
    transformers=[("cat", OneHotEncoder(handle_unknown="ignore"), categorical_features)],
    remainder="passthrough"
)

pipeline = Pipeline([
    ("preprocessor", preprocessor),
    ("regressor", LinearRegression())
])

X_train, X_test, y_train, y_test = train_test_split(X, y, test_size=0.2, random_state=42)

pipeline.fit(X_train, y_train)

y_pred = pipeline.predict(X_test)
print(f"R² Score: {r2_score(y_test, y_pred):.4f}")
print(f"RMSE: {np.sqrt(mean_squared_error(y_test, y_pred)):.2f} lakhs")


def recommend_cars(df, model_pipeline, user_preferences, top_n=10):
    df = df.copy()
    df["price_val"] = df["price"].str.replace(" lakhs", "").astype(float)

    # Filter according to preferences
    filtered = df[
        (df["transmission"] == user_preferences["transmission"]) &
        (df["fuel_type"] == user_preferences["fuel_type"]) &
        (df["drivetrain"] == user_preferences["drivetrain"]) &
        (df["body_style"] == user_preferences["body_style"]) &
        (df["city_mpg"] >= user_preferences["min_city_mpg"]) &
        (df["highway_mpg"] >= user_preferences["min_highway_mpg"]) &
        (df["engine_cc"] >= user_preferences["min_engine_cc"]) &
        (df["engine_cc"] <= user_preferences["max_engine_cc"])
    ].copy()

    if filtered.empty:
        print(" No cars matched your preferences.")
        return pd.DataFrame()

    X_filtered = filtered[features]
    filtered["predicted_price"] = model_pipeline.predict(X_filtered)
    filtered = filtered[
        (filtered["predicted_price"] >= user_preferences["min_price"]) &
        (filtered["predicted_price"] <= user_preferences["max_price"])
    ].copy()

    if filtered.empty:
        print(" No cars matched")
        return pd.DataFrame()

    filtered["price_diff"] = abs(filtered["predicted_price"] - filtered["price_val"])
    result = filtered.sort_values("price_diff").head(top_n)

    return result[[
        "make", "model", "year", "engine_cc", "fuel_type", "transmission", "drivetrain",
        "city_mpg", "highway_mpg", "body_style", "seating_capacity", "price", "predicted_price"
    ]]


user_preferences = {
    "transmission": "Automatic",
    "fuel_type": "Petrol",
    "drivetrain": "FWD",
    "body_style": "SUV",
    "min_city_mpg": 14,
    "min_highway_mpg": 18,
    "min_engine_cc": 1000,
    "max_engine_cc": 2200,
    "min_price": 8.0,   #
    "max_price": 20.0   
}

recommendations = recommend_cars(df, pipeline, user_preferences, top_n=10)

if not recommendations.empty:
    print("\nTop Car Recommendations Based on Your Perferences:\n")
    print(recommendations.to_string(index=False))
